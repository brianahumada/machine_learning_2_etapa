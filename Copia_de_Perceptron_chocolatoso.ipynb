{
  "cells": [
    {
      "cell_type": "markdown",
      "metadata": {
        "id": "C469SMzEbsmp"
      },
      "source": [
        "## Práctico Número 2: Implementando una red neuronal"
      ]
    },
    {
      "cell_type": "markdown",
      "metadata": {
        "id": "_4mw9LhXbsm4"
      },
      "source": [
        "### Tarea del dia\n",
        "Hoy vamos a implementar entre todos, la red neuronal mas simple: la de una sola neurona. Tenemos las herramientas para hacerlo automaticamente con tensorflow, pero eso no seria divertido. El unico ayudante que tendremos es numpy.\n",
        "Como vamos a implementar numpy, lo primero es ... importar numpy!! A esta altura deberia ser un acto reflejo ..."
      ]
    },
    {
      "cell_type": "code",
      "execution_count": null,
      "metadata": {
        "id": "1VwgbrKZbsm5"
      },
      "outputs": [],
      "source": [
        "\n",
        "# Sientete libre de importar esta libreria como mas te guste. Aqui te dejo unas opciones:\n",
        "import numpy as np\n",
        "# import numpy\n",
        "# import numpy as npy\n",
        "# import numpy as libreria_de_vectores\n",
        "# Descomenta la que mas te guste o haz una nueva linea."
      ]
    },
    {
      "cell_type": "markdown",
      "metadata": {
        "id": "gI2UbKFHbsm6"
      },
      "source": [
        "### Recordando el perceptron\n",
        "Recordemos que es un perceptron. No introduzcamos palabras raras como sumatoria, ni funciones de activacion todavia. El perceptron es un *modelo*, que nos ayuda a *predecir* algo, a partir de *caracteristicas*.\n",
        "Que son estas caracteristicas? Dicho de forma simple, es algo que la maquina puede entender, es decir numeros. Por ejemplo, pueden ser los numeros que describan a una persona: edad, peso, talla, etc.\n",
        "\n",
        "![Perceptron simple](./Perceptron_simple.png \"Perceptron simple\")\n",
        "\n",
        "En este caso, mis caracteristicas son n1 y n2, y eso nos va a ayudar a predecir *algo*.\n",
        "\n",
        "#### Como lo hace?\n",
        "\n",
        "Podemos empezar por un modelo muy muuy muuuy simple.\n",
        "\n",
        "Primero supongamos que lo que queremos predecir es un valor tipo Verdadero o Falso, o un 1 o 0. Es decir, queremos predecir entre dos valores.\n",
        "\n",
        "Sumamos las caracteristicas (que recuerden que no son mas que numeros). Si eso nos da arriba de un valor (llamemosle *umbral*), predecimos un 1 (o Verdadero), sino, predecimos un 0 (o Falso)\n"
      ]
    },
    {
      "cell_type": "markdown",
      "metadata": {
        "id": "pQ5I7mOWbsm8"
      },
      "source": [
        "### Bajemoslo a tierra con un ejemplo\n",
        "\n",
        "Queremos predecir si un alumno va a aprobar una materia o no, a partir de ciertas caracteristicas. Nuestras caracteristicas van a ser: resultado de examen 1, resultado de examen 2. Entre ambas, tienen que ser mayor a 12 para aprobar el curso.\n",
        "\n",
        "\n",
        "\n",
        "![Perceptron complejo](./Perceptron_custom.png \"Perceptron simple\")\n",
        "\n",
        "No se asusten con ese simbolo raro, si no lo conocen, solo nos dice que sumamos el resultado del Examen1 + resultado del Examen 2\n"
      ]
    },
    {
      "cell_type": "markdown",
      "metadata": {
        "id": "hZ9lqJwHbsm8"
      },
      "source": [
        "### Podremos implementar eso con codigo?\n",
        "Primero lo primero, definamos nuestros datos, que van a ser super simples ...\n",
        "Vamos a tener:\n",
        "- alumno 1: saco 2 en el primer examen, y 9 en el segundo\n",
        "- alumnos 2: saco 10 en el primer examen, y 9 en el segundo"
      ]
    },
    {
      "cell_type": "code",
      "execution_count": null,
      "metadata": {
        "id": "ng1B0gsObsm9"
      },
      "outputs": [],
      "source": [
        "alumno_1 = [2,9]\n",
        "alumno_2 = [10, 9]\n"
      ]
    },
    {
      "cell_type": "markdown",
      "metadata": {
        "id": "hmqbPbPrbsm9"
      },
      "source": [
        "Hasta ahora, tanto alumno_1 como alumno_2 son *listas*. Podemos juntar a ambas en un solo objeto\n",
        "\n",
        "Hagamos eso"
      ]
    },
    {
      "cell_type": "code",
      "execution_count": null,
      "metadata": {
        "colab": {
          "base_uri": "https://localhost:8080/"
        },
        "id": "mE0YNOuGbsm-",
        "outputId": "816d0028-7695-4304-d5e8-4188c3bcaffc"
      },
      "outputs": [
        {
          "output_type": "stream",
          "name": "stdout",
          "text": [
            "[[2, 9], [10, 9]]\n"
          ]
        }
      ],
      "source": [
        "alumnos = [alumno_1, alumno_2]\n",
        "print(alumnos)"
      ]
    },
    {
      "cell_type": "markdown",
      "metadata": {
        "id": "iL4Gr3F1bsm_"
      },
      "source": [
        "La variable alumnos es ahora una *lista*, que a su vez esta compuesta de *listas* (es una lista de listas). Podemos pedirle a numpy que las transforme en una *matriz*. Esto es simplemente mas conveniente para la computadora. Le hagamos facil el trabajo. Esto lo podemos hacer con la *funcion* de numpy: numpy.array.\n",
        "\n",
        "No se olviden que todo esto debe estar guardado en una variable"
      ]
    },
    {
      "cell_type": "code",
      "execution_count": null,
      "metadata": {
        "colab": {
          "base_uri": "https://localhost:8080/"
        },
        "id": "eFeucjIFbsnA",
        "outputId": "aafb1db3-3233-40d8-d7b5-37e2cf7646fc"
      },
      "outputs": [
        {
          "output_type": "stream",
          "name": "stdout",
          "text": [
            "[[ 2  9]\n",
            " [10  9]]\n"
          ]
        }
      ],
      "source": [
        "alumnos_v = np.array(alumnos)\n",
        "print(alumnos_v)"
      ]
    },
    {
      "cell_type": "code",
      "execution_count": null,
      "metadata": {
        "colab": {
          "base_uri": "https://localhost:8080/"
        },
        "id": "rl0H-9jNbsnA",
        "outputId": "bafb50d8-ea15-4d57-906d-f4bb6b2bb409"
      },
      "outputs": [
        {
          "output_type": "stream",
          "name": "stdout",
          "text": [
            "(2, 2)\n",
            "2 es el numero de alumnos\n",
            "2 es el numero de examanes por alumno\n"
          ]
        }
      ],
      "source": [
        "# Quiero que conozcas a los arrays de numpy. Hay un pequenio atributo de numpy que es \"shape\", que usaremos mas tarde. Puedes ver lo que hace?\n",
        "print(alumnos_v.shape)\n",
        "print(f\"{alumnos_v.shape[0]} es el numero de alumnos\")\n",
        "print(f\"{alumnos_v.shape[1]} es el numero de examanes por alumno\")"
      ]
    },
    {
      "cell_type": "code",
      "execution_count": null,
      "metadata": {
        "colab": {
          "base_uri": "https://localhost:8080/"
        },
        "id": "h4shDXk7bsnA",
        "outputId": "08e164a2-7292-494d-ce44-fdb07da3d9c7"
      },
      "outputs": [
        {
          "output_type": "stream",
          "name": "stdout",
          "text": [
            "El primer alumno saco 9 en el segundo examen\n",
            "El segundo alumno saco 9 en el segundo examen\n"
          ]
        }
      ],
      "source": [
        "# Como me entero de cuanto saco el primer alumno en el segundo examen, por ejemplo?\n",
        "# Veamoslo en codigo:\n",
        "\n",
        "print(f\"El primer alumno saco {alumnos_v[0,1]} en el segundo examen\")\n",
        "print(f\"El segundo alumno saco {alumnos_v[1,1]} en el segundo examen\")\n",
        "\n",
        "# En general, en matrices de numpy, el primer numero de lo que hay entre corchetes hace referencia a la fila, (que en este caso son los alumnos), y el segundo numero a la columna\n",
        "# que en este caso son los examenes\n",
        "# Acuerdense que python empieza a contar desde el 0 (le fue mal en el jardin de infantes, pobre)"
      ]
    },
    {
      "cell_type": "markdown",
      "metadata": {
        "id": "bN1pCEyGbsnB"
      },
      "source": [
        "Tenemos nuestra base de datos!\n",
        "Ahora armemos nuestro perceptron!\n",
        "Para los mas avanzados, intenten hacer una *clase* perceptron, para el resto, esta bien una *funcion*. Esta *funcion* tomara los datos y simplemente devolvera la suma de ellos.\n",
        "Puedes hacer esto?\n",
        "\n",
        "Hay una forma facil y un poco ... incorrecta de hacerlo. Mas que incorrecta es mas lenta, pero nos conformaremos con eso por ahora. Solo quiero que sepas que existe una forma mejor de hacer lo mismo. Si sabes cual es la forma rapida, implementala. Si no, puedes hacer la suma mediante loops for."
      ]
    },
    {
      "cell_type": "code",
      "execution_count": null,
      "metadata": {
        "id": "O0LbWaHUbsnB"
      },
      "outputs": [],
      "source": [
        "def perceptron(datos):\n",
        "    # definimos una lista vacia, primero. En nuestro caso, al final esta contendra nuestra lista de aprobados y desaprobados\n",
        "    respuesta = []\n",
        "    # en este caso, \"dato\" sera alumno, pero dependera de que se le pase como parametro\n",
        "    for dato in datos:\n",
        "        # definimos una sumatoria = 0, y le iremos sumando el valor de cada uno de los features.\n",
        "        sumatoria = 0\n",
        "        # en nuestro caso, \"feature\" puede tomar el valor: examen_1 o examen_2\n",
        "        for feature in dato:\n",
        "            sumatoria += feature\n",
        "        respuesta.append(sumatoria)\n",
        "        # recuerden que en machine learning, trabajamos con numpy arrays!\n",
        "        respuesta_v = np.array(respuesta)\n",
        "\n",
        "    return respuesta_v\n"
      ]
    },
    {
      "cell_type": "markdown",
      "metadata": {
        "id": "EzEqpUgzbsnB"
      },
      "source": [
        "Bien, ya definimos nuestro perceptron, pero por ahora solamente lo definimos. Ahora tenemos que *llamar* a esa funcion con nuestros datos."
      ]
    },
    {
      "cell_type": "code",
      "execution_count": null,
      "metadata": {
        "colab": {
          "base_uri": "https://localhost:8080/"
        },
        "id": "DO6MXnFNbsnB",
        "outputId": "42c63867-b6af-46df-de5a-4955c2d0537e"
      },
      "outputs": [
        {
          "output_type": "stream",
          "name": "stdout",
          "text": [
            "[11 19]\n"
          ]
        }
      ],
      "source": [
        "y = perceptron(alumnos_v)\n",
        "print(y)"
      ]
    },
    {
      "cell_type": "markdown",
      "metadata": {
        "id": "yEHGiklIbsnB"
      },
      "source": [
        "Ok, esto nos tira dos numeros, pero no quiero una lista de numeros de 0 a 20, quiero lista de aprobados y desaprobados. Al perceptron le falta algo, que llamaremos la *funcion de activacion*. La *funcion de activacion* es algo que procesa la suma que hicimos dentro del perceptron y lo transforma en otro numero, segun ciertas *reglas*.\n",
        "\n",
        "Hay diferentes *funciones de activacion*, pero recuerden que ahora solo queremos saber si el alumno suma mas de 12 entre sus dos examenes o no. Entonces nuestra funcion de activacion devolvera un uno si la suma es mayor que 12 (que interpretaremos como *aprobado*), y un 0 si es menos que 12 (que interpretaremos como *desaprobado*). Esta *funcion de activacion* es llamada ***funcion escalon***.\n",
        "\n",
        "Ahora, la funcion de activacion es parte del perceptron, asi que la definiremos primero, y luego haremos que la *funcion* que definimos previamente, es decir la funcion *perceptron* ***llame*** a la *funcion* *escalon*."
      ]
    },
    {
      "cell_type": "code",
      "execution_count": null,
      "metadata": {
        "id": "V6ddLDu-bsnB"
      },
      "outputs": [],
      "source": [
        "def funcion_escalon(sumatoria, umbral):\n",
        "    salida = []\n",
        "    for rtta in sumatoria:\n",
        "        if rtta > umbral:\n",
        "            salida.append(1)\n",
        "        else:\n",
        "            salida.append(0)\n",
        "\n",
        "    # transformamos nuestra salida, porque en machine learning trabajamos con numpy arrays\n",
        "    salida = np.array(salida)\n",
        "    return salida"
      ]
    },
    {
      "cell_type": "markdown",
      "metadata": {
        "id": "OrNKDgKxbsnC"
      },
      "source": [
        "Redefinimos nuestra funcion de perceptron"
      ]
    },
    {
      "cell_type": "code",
      "execution_count": null,
      "metadata": {
        "id": "X7XpeqRwbsnE"
      },
      "outputs": [],
      "source": [
        "def perceptron(datos, umbral):\n",
        "    # definimos una lista vacia, primero. En nuestro caso, al final esta contendra nuestra lista de aprobados y desaprobados\n",
        "    respuesta = []\n",
        "    # en este caso, \"dato\" sera alumno, pero dependera de que se le pase como parametro\n",
        "    for dato in datos:\n",
        "        # definimos una sumatoria = 0, y le iremos sumando el valor de cada uno de los features.\n",
        "        sumatoria = 0\n",
        "        # en nuestro caso, \"feature\" puede tomar el valor: examen_1 o examen_2\n",
        "        for feature in dato:\n",
        "            sumatoria += feature\n",
        "        respuesta.append(sumatoria)\n",
        "        # recuerden que en machine learning, trabajamos con numpy arrays!\n",
        "        respuesta_v = np.array(respuesta)\n",
        "\n",
        "    # Ahora llamamos al final a nuestra funcion escalon\n",
        "    respuesta_final = funcion_escalon(respuesta_v, umbral)\n",
        "\n",
        "\n",
        "    return respuesta_final"
      ]
    },
    {
      "cell_type": "code",
      "execution_count": null,
      "metadata": {
        "colab": {
          "base_uri": "https://localhost:8080/"
        },
        "id": "D-KcY3XpbsnF",
        "outputId": "6cf5789f-b506-4a7a-ab97-cdeccf01e182"
      },
      "outputs": [
        {
          "output_type": "stream",
          "name": "stdout",
          "text": [
            "Estos son nuestros aprobados y desaprobados: [0 1]\n"
          ]
        }
      ],
      "source": [
        "aprobados_desaprobados = perceptron(alumnos_v, 12)\n",
        "print(f\"Estos son nuestros aprobados y desaprobados: {aprobados_desaprobados}\")\n"
      ]
    },
    {
      "cell_type": "markdown",
      "metadata": {
        "id": "DV89n6VRbsnG"
      },
      "source": [
        "Creanlo o no, acaban de implementar su primer perceptron. Todavia le faltan un par de cosas para que sea completamente funcional y poder incorporarlo a un red neuronal como la gente. Pero esta pequenia funcion ya es un perceptron (o neurona)"
      ]
    },
    {
      "cell_type": "markdown",
      "metadata": {
        "id": "tr2xYXFfbsnG"
      },
      "source": [
        "#### Completando el panorama\n",
        "Que pasa si el examen 2 es mas clave o importante que el examen 1, o al reves? Por que estaria obligado a que valgan lo mismo? Supongamos que el examen 2 cubre mas temas, y que quiero que valga mas. Para eso, vamos a implementar unos *pesos*. Esto quiere decir que simplemente vamos a estar multiplicando cada caracteristica por un numero. Digamos que queremos que el Examen 2 valga el 50% mas que el examen 1. Para eso, podemos multiplicar al examen 1 por 1, y al examen 2 por 1.5.  \n",
        "Pueden modificar la funcion para que haga eso?"
      ]
    },
    {
      "cell_type": "code",
      "execution_count": null,
      "metadata": {
        "colab": {
          "base_uri": "https://localhost:8080/"
        },
        "id": "J6MFx7FpbsnG",
        "outputId": "aa9655c8-cd53-480b-984e-9924ab5d70e0"
      },
      "outputs": [
        {
          "output_type": "stream",
          "name": "stdout",
          "text": [
            "[1, 1.5]\n"
          ]
        }
      ],
      "source": [
        "# Primero, definimos nuestros pesos.\n",
        "w = [1,1.5]\n",
        "print(w)"
      ]
    },
    {
      "cell_type": "code",
      "execution_count": null,
      "metadata": {
        "colab": {
          "base_uri": "https://localhost:8080/"
        },
        "id": "5tYzz2WfbsnH",
        "outputId": "198b9f04-268a-46ab-e45e-ab0fbdd7d4a6"
      },
      "outputs": [
        {
          "output_type": "stream",
          "name": "stdout",
          "text": [
            "[1.  1.5]\n",
            "Noten que a proposito puse los pesos en w en el mismo orden que los features.\n",
            "     Esto nos servira en la proxima funcion\n"
          ]
        }
      ],
      "source": [
        "# Pero en machine learning con que trabajamos? Todos juntos: numpy array!\n",
        "w = np.array(w)\n",
        "print(w)\n",
        "print(\"Noten que a proposito puse los pesos en w en el mismo orden que los features.\\n \\\n",
        "    Esto nos servira en la proxima funcion\")"
      ]
    },
    {
      "cell_type": "code",
      "execution_count": null,
      "metadata": {
        "id": "dlVOweu9bsnH"
      },
      "outputs": [],
      "source": [
        "# Ahora modifiquemos la funcion anterior (copien y peguen, y le ponemos un nuevo nombre, no le digan a nadie ...)\n",
        "def perceptron_w(datos, w, umbral):\n",
        "    respuesta = []\n",
        "    sumatoria = 0\n",
        "    # en el proximo loop for es donde esta la diferencia clave.\n",
        "    # Podemos usar la palabra clave \"range\", para acceder a ambas listas por orden\n",
        "    for i in range(0,datos.shape[0]): # i correspondera al alumno\n",
        "        for j in range(0, datos.shape[1]): # j correspondera al examen\n",
        "            sumatoria += datos[i,j] * w[j]\n",
        "\n",
        "        respuesta.append(sumatoria)\n",
        "    respuesta_v = np.array(respuesta)\n",
        "    respuesta_final = funcion_escalon(respuesta_v, umbral)\n",
        "    return respuesta_final"
      ]
    },
    {
      "cell_type": "code",
      "execution_count": null,
      "metadata": {
        "colab": {
          "base_uri": "https://localhost:8080/"
        },
        "id": "E3IJNcI4bsnI",
        "outputId": "053fec1d-16df-4721-83f7-bbc2a8906fcb"
      },
      "outputs": [
        {
          "output_type": "stream",
          "name": "stdout",
          "text": [
            "La lista de aprobados y desaprobados es [1 1]\n",
            "Gracias a los pesos, todos aprobaron! \n"
          ]
        }
      ],
      "source": [
        "aprobados_desaprobados = perceptron_w(alumnos_v, w, 15)\n",
        "print(f\"La lista de aprobados y desaprobados es {aprobados_desaprobados}\")\n",
        "print(f\"Gracias a los pesos, todos aprobaron! \")"
      ]
    },
    {
      "cell_type": "code",
      "source": [
        "from google.colab import drive\n",
        "drive.mount('/content/drive')"
      ],
      "metadata": {
        "id": "An7gI6Dbccwb"
      },
      "execution_count": null,
      "outputs": []
    },
    {
      "cell_type": "markdown",
      "metadata": {
        "id": "rQ_AvbyDbsnI"
      },
      "source": [
        "#### Facturas\n",
        "creo que a ese perceptron le falta algo. Esos alumnos le llevaron facturas al profesor? Llevarle facturas al profesor es muy importante. Nadie puede aprobar sin llevarle facturas al profesor. Por lo tanto, necesitaremos ***otro*** perceptron para manejar este dato de la manera mas adecuada.  "
      ]
    }
  ],
  "metadata": {
    "kernelspec": {
      "display_name": "base",
      "language": "python",
      "name": "python3"
    },
    "language_info": {
      "codemirror_mode": {
        "name": "ipython",
        "version": 3
      },
      "file_extension": ".py",
      "mimetype": "text/x-python",
      "name": "python",
      "nbconvert_exporter": "python",
      "pygments_lexer": "ipython3",
      "version": "3.9.7"
    },
    "orig_nbformat": 4,
    "colab": {
      "provenance": []
    }
  },
  "nbformat": 4,
  "nbformat_minor": 0
}