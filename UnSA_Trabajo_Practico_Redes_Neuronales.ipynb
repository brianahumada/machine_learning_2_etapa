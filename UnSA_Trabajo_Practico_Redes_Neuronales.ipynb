{
  "nbformat": 4,
  "nbformat_minor": 0,
  "metadata": {
    "colab": {
      "provenance": []
    },
    "kernelspec": {
      "name": "python3",
      "display_name": "Python 3"
    },
    "language_info": {
      "name": "python"
    }
  },
  "cells": [
    {
      "cell_type": "markdown",
      "source": [
        "# ***TRABAJO PRACTICO- REDES NEURONALES***\n",
        "\n",
        "\n"
      ],
      "metadata": {
        "id": "yWFMEJp2Zd1E"
      }
    },
    {
      "cell_type": "markdown",
      "source": [
        "#Apellido, Nombre, DNI, email de todos los integrantes del grupo"
      ],
      "metadata": {
        "id": "s6OYVREZDtXF"
      }
    },
    {
      "cell_type": "markdown",
      "source": [
        "Se les proporcionará una base de datos de ciudades de Argentina y los registros de Máxima y Mínima temperatura a lo largo de un año.Dicha base de datos fue obtenida del registro nacional de las siguientes enlaces: [detalle de la base de datos](https://datos.gob.ar/dataset/smn-registro-temperatura-365-dias/archivo/smn_5.1) - [REGISTRO DE TEMPERATURA 365 DIAS](https://www.smn.gob.ar/descarga-de-datos).\n",
        "\n",
        "La base de datos también podra ser descargada del sigueinte enlace del drive [BASE DE DATOS](https://drive.google.com/drive/folders/18rTLeY5A8DOwz39TB563HPHIpZTJM3CA?usp=sharing)\n",
        "\n",
        "Se deberá ralizar los siguientes pasos.\n",
        "\n",
        "\n",
        "1.   Seleccionar una ciudad y reconstruir una nueva base de datos tomando la temperatura promedio entre la max y min de cada dia, para dicha ciudad. Graficar dichos datos TIEMPO VS TEMPERATURA Y SELECCIONAR UN PERIODO DE TIEMPO DONDE LA GRAFICA SEA CRECIENTE. Esto servira para construir una nueva base de datos.\n",
        "\n",
        "\n",
        "2.  Agregar a la nueva base de datos creada del insciso anterior una columna con las siguientes variables , generadas a través de simulación aleatoria:\n",
        "\n",
        "\n",
        "   * VARIABLE: PRECIO DEL KILO DE HELADO- construir esta variable usando simulación aleatoria de regresión lineal en función de la temperatura. De manera que a mayor temperatura el precio sea MAYOR,  a menor temperatura el precio será menor. Definir el  rango del precio del helado y la tasa o porcentaje de incremento del precio\n",
        "  \n",
        "   * COMPRA HELADO: VARIABLE CATEGORICA , RESPUESTA SI/NO. Generar esta variable con simulación aleatoria de manera que si el precio del helado es mas del 40 % del precio inicial, la persona decide NO COMPRAR EL HELADO, ESTO SUCEDE CON UNA PROPORCION O PROBABILIDAD DEL 80% DE LA CANTIDAD TOTAL DE REGISTROS.\n",
        "\n",
        "3. GENERAR TRES  PERCEPTRONES (SEGUIR LOS EJEMPLOS MOSTRADOS DE PERCEPTRON EN CLASE)CONECTADOS ENTRE SI DE MANERA QUE TENGA COMO CONDICIÓN LO SIGUIENTE:\n",
        "\n",
        "  * SI HACEN MÁS DE 27 GRADOS DE TEMPERATURA O INCLUSIVE SI EL PRECIO DEL HELADO ESTA POR DEBAJO DEL 40 % DE INCREMENTO, LA RED NEURONAL DEBERA INDICAR QUE SE COMPRA EL HELADO. ( los pesos colocarlos de manera aleatoria, usar la función de salto finito o función sigmoide para la activación)\n",
        "\n",
        "4. Luego de diseñar los perceptrones, implementarlos sobre la base de datos generada de manera que se les pase por argumento las variables: TEMPERATURA PROMEDIO, PRECIO DEL HELADO. Comparar la proporción de respuestas correctas en las que coincide el resultado de la red neuronal , con la variable COMPRA HELADOS . Esto último es una forma de medir la exactitud de la red.\n",
        "\n",
        "<hr>\n",
        "<hr>"
      ],
      "metadata": {
        "id": "Q2wopJgTECIF"
      }
    },
    {
      "cell_type": "markdown",
      "source": [
        " Este cuaderno no esta creado para ser entregado tal cómo esta, sino para intentar ayudar y servir de guía para otros compañeros. Si se le va a dar uso, recomiendo mucho quitar los comentarios o editarlos y cambiar el enfoque (por ejemplo la ciudad) según se desee."
      ],
      "metadata": {
        "id": "eHLBwUDmfPpk"
      }
    },
    {
      "cell_type": "markdown",
      "source": [
        "<br>\n",
        "\n",
        "### Primer consigna\n",
        "\n",
        "&nbsp; Las consignas para este trabajo entregable muestran muchos, ~muchisimos~ errores, y para poder abordalos de forma sistematica, voy a ir agregando notas de ayuda para que los otros compañeros terminen el trabajo de forma rapida, sin perder tiempo en comprender la terminologia errante.\n",
        "<p>&nbsp; La primer consigna, básicamente pide:\n",
        "<ol>\n",
        "<li>Seleccionar una ciudad a partir del DataFrame original (mal llamado \"base de datos\"): se refiere a simplemente filtrar por el nombre de ciudad elegida.</li>\n",
        "<li>Hacer una columna con la temperatura promedio de esa ciudad. (En el ejemplo lo hice con todo el DataFrame).</li>\n",
        "<li>Graficar la temperatura promedio en el tiempo (fecha)</li>\n",
        "<li>Seleccionar un periodo donde se muestre una temperatura creciente en esa ciudad (problablemente de invierno hacia primavera o primavera hacia verano)</li>\n",
        "</ol>"
      ],
      "metadata": {
        "id": "apfiAQ15_pde"
      }
    },
    {
      "cell_type": "markdown",
      "source": [
        "<code>1. Seleccionar una ciudad y reconstruir una nueva base de datos tomando la temperatura promedio entre la max y min de cada dia, para dicha ciudad. Graficar dichos datos TIEMPO VS TEMPERATURA Y SELECCIONAR UN PERIODO DE TIEMPO DONDE LA GRAFICA SEA CRECIENTE. Esto servira para construir una nueva base de datos.</code>"
      ],
      "metadata": {
        "id": "vhES9Yhe-3am"
      }
    },
    {
      "cell_type": "markdown",
      "source": [
        "<code>Seleccionar una ciudad</code><br>\n",
        "a. Leemos los datos a partir del archivo .txt en la carpeta de Google Drive. Le damos la codificación que usa e ignoramos las tres primeras entradas que no corresponden a datos."
      ],
      "metadata": {
        "id": "85B6p0x5EDRO"
      }
    },
    {
      "cell_type": "code",
      "source": [
        "import pandas as pd\n",
        "import numpy as np\n",
        "import matplotlib.pyplot as plt\n",
        "\n",
        "url_txt='https://drive.google.com/file/d/1XrxozIFzCFx9oaDlubYMc10H1GWcQhc-/view?usp=drive_link'\n",
        "url_txt='https://drive.google.com/uc?id=' + url_txt.split('/')[-2]\n",
        "\n",
        "codificacion = \"ISO-8859-1\"\n",
        "df = pd.read_fwf(url_txt, skiprows=3, header=None, names=[\"FECHA\", \"TMAX\", \"TMIN\", \"NOMBRE\"], encoding=codificacion)\n",
        "\n",
        "df.head()"
      ],
      "metadata": {
        "id": "H-GaSgkv_n01",
        "colab": {
          "base_uri": "https://localhost:8080/",
          "height": 206
        },
        "outputId": "6f2703b1-fcc0-44ab-d13a-7d78dbe671e4"
      },
      "execution_count": null,
      "outputs": [
        {
          "output_type": "execute_result",
          "data": {
            "text/plain": [
              "      FECHA  TMAX  TMIN             NOMBRE\n",
              "0  29102023  23.0  17.9    AEROPARQUE AERO\n",
              "1  29102023  22.9  14.2          AZUL AERO\n",
              "2  29102023  22.1   8.1  BAHIA BLANCA AERO\n",
              "3  29102023   3.5  -0.3     BARILOCHE AERO\n",
              "4  29102023  -4.7 -11.6   BASE BELGRANO II"
            ],
            "text/html": [
              "\n",
              "  <div id=\"df-5efe5fc2-cf63-4fdb-8ef7-cc5e66f9ab6b\" class=\"colab-df-container\">\n",
              "    <div>\n",
              "<style scoped>\n",
              "    .dataframe tbody tr th:only-of-type {\n",
              "        vertical-align: middle;\n",
              "    }\n",
              "\n",
              "    .dataframe tbody tr th {\n",
              "        vertical-align: top;\n",
              "    }\n",
              "\n",
              "    .dataframe thead th {\n",
              "        text-align: right;\n",
              "    }\n",
              "</style>\n",
              "<table border=\"1\" class=\"dataframe\">\n",
              "  <thead>\n",
              "    <tr style=\"text-align: right;\">\n",
              "      <th></th>\n",
              "      <th>FECHA</th>\n",
              "      <th>TMAX</th>\n",
              "      <th>TMIN</th>\n",
              "      <th>NOMBRE</th>\n",
              "    </tr>\n",
              "  </thead>\n",
              "  <tbody>\n",
              "    <tr>\n",
              "      <th>0</th>\n",
              "      <td>29102023</td>\n",
              "      <td>23.0</td>\n",
              "      <td>17.9</td>\n",
              "      <td>AEROPARQUE AERO</td>\n",
              "    </tr>\n",
              "    <tr>\n",
              "      <th>1</th>\n",
              "      <td>29102023</td>\n",
              "      <td>22.9</td>\n",
              "      <td>14.2</td>\n",
              "      <td>AZUL AERO</td>\n",
              "    </tr>\n",
              "    <tr>\n",
              "      <th>2</th>\n",
              "      <td>29102023</td>\n",
              "      <td>22.1</td>\n",
              "      <td>8.1</td>\n",
              "      <td>BAHIA BLANCA AERO</td>\n",
              "    </tr>\n",
              "    <tr>\n",
              "      <th>3</th>\n",
              "      <td>29102023</td>\n",
              "      <td>3.5</td>\n",
              "      <td>-0.3</td>\n",
              "      <td>BARILOCHE AERO</td>\n",
              "    </tr>\n",
              "    <tr>\n",
              "      <th>4</th>\n",
              "      <td>29102023</td>\n",
              "      <td>-4.7</td>\n",
              "      <td>-11.6</td>\n",
              "      <td>BASE BELGRANO II</td>\n",
              "    </tr>\n",
              "  </tbody>\n",
              "</table>\n",
              "</div>\n",
              "    <div class=\"colab-df-buttons\">\n",
              "\n",
              "  <div class=\"colab-df-container\">\n",
              "    <button class=\"colab-df-convert\" onclick=\"convertToInteractive('df-5efe5fc2-cf63-4fdb-8ef7-cc5e66f9ab6b')\"\n",
              "            title=\"Convert this dataframe to an interactive table.\"\n",
              "            style=\"display:none;\">\n",
              "\n",
              "  <svg xmlns=\"http://www.w3.org/2000/svg\" height=\"24px\" viewBox=\"0 -960 960 960\">\n",
              "    <path d=\"M120-120v-720h720v720H120Zm60-500h600v-160H180v160Zm220 220h160v-160H400v160Zm0 220h160v-160H400v160ZM180-400h160v-160H180v160Zm440 0h160v-160H620v160ZM180-180h160v-160H180v160Zm440 0h160v-160H620v160Z\"/>\n",
              "  </svg>\n",
              "    </button>\n",
              "\n",
              "  <style>\n",
              "    .colab-df-container {\n",
              "      display:flex;\n",
              "      gap: 12px;\n",
              "    }\n",
              "\n",
              "    .colab-df-convert {\n",
              "      background-color: #E8F0FE;\n",
              "      border: none;\n",
              "      border-radius: 50%;\n",
              "      cursor: pointer;\n",
              "      display: none;\n",
              "      fill: #1967D2;\n",
              "      height: 32px;\n",
              "      padding: 0 0 0 0;\n",
              "      width: 32px;\n",
              "    }\n",
              "\n",
              "    .colab-df-convert:hover {\n",
              "      background-color: #E2EBFA;\n",
              "      box-shadow: 0px 1px 2px rgba(60, 64, 67, 0.3), 0px 1px 3px 1px rgba(60, 64, 67, 0.15);\n",
              "      fill: #174EA6;\n",
              "    }\n",
              "\n",
              "    .colab-df-buttons div {\n",
              "      margin-bottom: 4px;\n",
              "    }\n",
              "\n",
              "    [theme=dark] .colab-df-convert {\n",
              "      background-color: #3B4455;\n",
              "      fill: #D2E3FC;\n",
              "    }\n",
              "\n",
              "    [theme=dark] .colab-df-convert:hover {\n",
              "      background-color: #434B5C;\n",
              "      box-shadow: 0px 1px 3px 1px rgba(0, 0, 0, 0.15);\n",
              "      filter: drop-shadow(0px 1px 2px rgba(0, 0, 0, 0.3));\n",
              "      fill: #FFFFFF;\n",
              "    }\n",
              "  </style>\n",
              "\n",
              "    <script>\n",
              "      const buttonEl =\n",
              "        document.querySelector('#df-5efe5fc2-cf63-4fdb-8ef7-cc5e66f9ab6b button.colab-df-convert');\n",
              "      buttonEl.style.display =\n",
              "        google.colab.kernel.accessAllowed ? 'block' : 'none';\n",
              "\n",
              "      async function convertToInteractive(key) {\n",
              "        const element = document.querySelector('#df-5efe5fc2-cf63-4fdb-8ef7-cc5e66f9ab6b');\n",
              "        const dataTable =\n",
              "          await google.colab.kernel.invokeFunction('convertToInteractive',\n",
              "                                                    [key], {});\n",
              "        if (!dataTable) return;\n",
              "\n",
              "        const docLinkHtml = 'Like what you see? Visit the ' +\n",
              "          '<a target=\"_blank\" href=https://colab.research.google.com/notebooks/data_table.ipynb>data table notebook</a>'\n",
              "          + ' to learn more about interactive tables.';\n",
              "        element.innerHTML = '';\n",
              "        dataTable['output_type'] = 'display_data';\n",
              "        await google.colab.output.renderOutput(dataTable, element);\n",
              "        const docLink = document.createElement('div');\n",
              "        docLink.innerHTML = docLinkHtml;\n",
              "        element.appendChild(docLink);\n",
              "      }\n",
              "    </script>\n",
              "  </div>\n",
              "\n",
              "\n",
              "<div id=\"df-f306c1c9-4e99-4ba9-be5d-57ad527e9f89\">\n",
              "  <button class=\"colab-df-quickchart\" onclick=\"quickchart('df-f306c1c9-4e99-4ba9-be5d-57ad527e9f89')\"\n",
              "            title=\"Suggest charts.\"\n",
              "            style=\"display:none;\">\n",
              "\n",
              "<svg xmlns=\"http://www.w3.org/2000/svg\" height=\"24px\"viewBox=\"0 0 24 24\"\n",
              "     width=\"24px\">\n",
              "    <g>\n",
              "        <path d=\"M19 3H5c-1.1 0-2 .9-2 2v14c0 1.1.9 2 2 2h14c1.1 0 2-.9 2-2V5c0-1.1-.9-2-2-2zM9 17H7v-7h2v7zm4 0h-2V7h2v10zm4 0h-2v-4h2v4z\"/>\n",
              "    </g>\n",
              "</svg>\n",
              "  </button>\n",
              "\n",
              "<style>\n",
              "  .colab-df-quickchart {\n",
              "      --bg-color: #E8F0FE;\n",
              "      --fill-color: #1967D2;\n",
              "      --hover-bg-color: #E2EBFA;\n",
              "      --hover-fill-color: #174EA6;\n",
              "      --disabled-fill-color: #AAA;\n",
              "      --disabled-bg-color: #DDD;\n",
              "  }\n",
              "\n",
              "  [theme=dark] .colab-df-quickchart {\n",
              "      --bg-color: #3B4455;\n",
              "      --fill-color: #D2E3FC;\n",
              "      --hover-bg-color: #434B5C;\n",
              "      --hover-fill-color: #FFFFFF;\n",
              "      --disabled-bg-color: #3B4455;\n",
              "      --disabled-fill-color: #666;\n",
              "  }\n",
              "\n",
              "  .colab-df-quickchart {\n",
              "    background-color: var(--bg-color);\n",
              "    border: none;\n",
              "    border-radius: 50%;\n",
              "    cursor: pointer;\n",
              "    display: none;\n",
              "    fill: var(--fill-color);\n",
              "    height: 32px;\n",
              "    padding: 0;\n",
              "    width: 32px;\n",
              "  }\n",
              "\n",
              "  .colab-df-quickchart:hover {\n",
              "    background-color: var(--hover-bg-color);\n",
              "    box-shadow: 0 1px 2px rgba(60, 64, 67, 0.3), 0 1px 3px 1px rgba(60, 64, 67, 0.15);\n",
              "    fill: var(--button-hover-fill-color);\n",
              "  }\n",
              "\n",
              "  .colab-df-quickchart-complete:disabled,\n",
              "  .colab-df-quickchart-complete:disabled:hover {\n",
              "    background-color: var(--disabled-bg-color);\n",
              "    fill: var(--disabled-fill-color);\n",
              "    box-shadow: none;\n",
              "  }\n",
              "\n",
              "  .colab-df-spinner {\n",
              "    border: 2px solid var(--fill-color);\n",
              "    border-color: transparent;\n",
              "    border-bottom-color: var(--fill-color);\n",
              "    animation:\n",
              "      spin 1s steps(1) infinite;\n",
              "  }\n",
              "\n",
              "  @keyframes spin {\n",
              "    0% {\n",
              "      border-color: transparent;\n",
              "      border-bottom-color: var(--fill-color);\n",
              "      border-left-color: var(--fill-color);\n",
              "    }\n",
              "    20% {\n",
              "      border-color: transparent;\n",
              "      border-left-color: var(--fill-color);\n",
              "      border-top-color: var(--fill-color);\n",
              "    }\n",
              "    30% {\n",
              "      border-color: transparent;\n",
              "      border-left-color: var(--fill-color);\n",
              "      border-top-color: var(--fill-color);\n",
              "      border-right-color: var(--fill-color);\n",
              "    }\n",
              "    40% {\n",
              "      border-color: transparent;\n",
              "      border-right-color: var(--fill-color);\n",
              "      border-top-color: var(--fill-color);\n",
              "    }\n",
              "    60% {\n",
              "      border-color: transparent;\n",
              "      border-right-color: var(--fill-color);\n",
              "    }\n",
              "    80% {\n",
              "      border-color: transparent;\n",
              "      border-right-color: var(--fill-color);\n",
              "      border-bottom-color: var(--fill-color);\n",
              "    }\n",
              "    90% {\n",
              "      border-color: transparent;\n",
              "      border-bottom-color: var(--fill-color);\n",
              "    }\n",
              "  }\n",
              "</style>\n",
              "\n",
              "  <script>\n",
              "    async function quickchart(key) {\n",
              "      const quickchartButtonEl =\n",
              "        document.querySelector('#' + key + ' button');\n",
              "      quickchartButtonEl.disabled = true;  // To prevent multiple clicks.\n",
              "      quickchartButtonEl.classList.add('colab-df-spinner');\n",
              "      try {\n",
              "        const charts = await google.colab.kernel.invokeFunction(\n",
              "            'suggestCharts', [key], {});\n",
              "      } catch (error) {\n",
              "        console.error('Error during call to suggestCharts:', error);\n",
              "      }\n",
              "      quickchartButtonEl.classList.remove('colab-df-spinner');\n",
              "      quickchartButtonEl.classList.add('colab-df-quickchart-complete');\n",
              "    }\n",
              "    (() => {\n",
              "      let quickchartButtonEl =\n",
              "        document.querySelector('#df-f306c1c9-4e99-4ba9-be5d-57ad527e9f89 button');\n",
              "      quickchartButtonEl.style.display =\n",
              "        google.colab.kernel.accessAllowed ? 'block' : 'none';\n",
              "    })();\n",
              "  </script>\n",
              "</div>\n",
              "    </div>\n",
              "  </div>\n"
            ]
          },
          "metadata": {},
          "execution_count": 11
        }
      ]
    },
    {
      "cell_type": "markdown",
      "source": [
        "<center>Miercoles 1 de noviembre, 2023:</center>\n",
        "\n",
        "<center><img src=\"https://imageupload.io/ib/lKowK69J00U2cNz_1698891276.jpg\"></img></center><center><p>&nbsp; No se debe seleccionar una de estás ciudades. Esto va a entrar en conflicto con la <b>tercer consigna</b> ('<i>SI HACEN MÁS DE 27 GRADOS..</i>'). En estás \"ciudades\" (localidades) no se alcanza una temperatura promedio mayor a 27, inclusive en verano.</p></center>"
      ],
      "metadata": {
        "id": "M6ZAxgHRzylC"
      }
    },
    {
      "cell_type": "markdown",
      "source": [
        "Digamos que queremos tomar (~~reconstruir una nueva base de datos~~) los datos de Ushuaia. Pueden ser cualquier ciudad (así dice la consigna), así que tome Ushuaia como ejemplo."
      ],
      "metadata": {
        "id": "LZVgOC88EpaM"
      }
    },
    {
      "cell_type": "code",
      "source": [
        "temperatura_ushuaia = df[df[\"NOMBRE\"] == \"USHUAIA AERO\"]\n",
        "temperatura_ushuaia.head()"
      ],
      "metadata": {
        "id": "H7kG4S6w_nk0",
        "colab": {
          "base_uri": "https://localhost:8080/",
          "height": 206
        },
        "outputId": "e9c2c84f-b0d3-4e80-9558-24a12a572747"
      },
      "execution_count": null,
      "outputs": [
        {
          "output_type": "execute_result",
          "data": {
            "text/plain": [
              "        FECHA  TMAX  TMIN        NOMBRE\n",
              "110  29102023   5.9   0.2  USHUAIA AERO\n",
              "229  28102023   7.6   0.8  USHUAIA AERO\n",
              "348  27102023   8.0   0.3  USHUAIA AERO\n",
              "467  26102023   5.4   1.3  USHUAIA AERO\n",
              "586  25102023  10.4   3.2  USHUAIA AERO"
            ],
            "text/html": [
              "\n",
              "  <div id=\"df-e54778a6-6935-4d96-aee6-a476f3a7995f\" class=\"colab-df-container\">\n",
              "    <div>\n",
              "<style scoped>\n",
              "    .dataframe tbody tr th:only-of-type {\n",
              "        vertical-align: middle;\n",
              "    }\n",
              "\n",
              "    .dataframe tbody tr th {\n",
              "        vertical-align: top;\n",
              "    }\n",
              "\n",
              "    .dataframe thead th {\n",
              "        text-align: right;\n",
              "    }\n",
              "</style>\n",
              "<table border=\"1\" class=\"dataframe\">\n",
              "  <thead>\n",
              "    <tr style=\"text-align: right;\">\n",
              "      <th></th>\n",
              "      <th>FECHA</th>\n",
              "      <th>TMAX</th>\n",
              "      <th>TMIN</th>\n",
              "      <th>NOMBRE</th>\n",
              "    </tr>\n",
              "  </thead>\n",
              "  <tbody>\n",
              "    <tr>\n",
              "      <th>110</th>\n",
              "      <td>29102023</td>\n",
              "      <td>5.9</td>\n",
              "      <td>0.2</td>\n",
              "      <td>USHUAIA AERO</td>\n",
              "    </tr>\n",
              "    <tr>\n",
              "      <th>229</th>\n",
              "      <td>28102023</td>\n",
              "      <td>7.6</td>\n",
              "      <td>0.8</td>\n",
              "      <td>USHUAIA AERO</td>\n",
              "    </tr>\n",
              "    <tr>\n",
              "      <th>348</th>\n",
              "      <td>27102023</td>\n",
              "      <td>8.0</td>\n",
              "      <td>0.3</td>\n",
              "      <td>USHUAIA AERO</td>\n",
              "    </tr>\n",
              "    <tr>\n",
              "      <th>467</th>\n",
              "      <td>26102023</td>\n",
              "      <td>5.4</td>\n",
              "      <td>1.3</td>\n",
              "      <td>USHUAIA AERO</td>\n",
              "    </tr>\n",
              "    <tr>\n",
              "      <th>586</th>\n",
              "      <td>25102023</td>\n",
              "      <td>10.4</td>\n",
              "      <td>3.2</td>\n",
              "      <td>USHUAIA AERO</td>\n",
              "    </tr>\n",
              "  </tbody>\n",
              "</table>\n",
              "</div>\n",
              "    <div class=\"colab-df-buttons\">\n",
              "\n",
              "  <div class=\"colab-df-container\">\n",
              "    <button class=\"colab-df-convert\" onclick=\"convertToInteractive('df-e54778a6-6935-4d96-aee6-a476f3a7995f')\"\n",
              "            title=\"Convert this dataframe to an interactive table.\"\n",
              "            style=\"display:none;\">\n",
              "\n",
              "  <svg xmlns=\"http://www.w3.org/2000/svg\" height=\"24px\" viewBox=\"0 -960 960 960\">\n",
              "    <path d=\"M120-120v-720h720v720H120Zm60-500h600v-160H180v160Zm220 220h160v-160H400v160Zm0 220h160v-160H400v160ZM180-400h160v-160H180v160Zm440 0h160v-160H620v160ZM180-180h160v-160H180v160Zm440 0h160v-160H620v160Z\"/>\n",
              "  </svg>\n",
              "    </button>\n",
              "\n",
              "  <style>\n",
              "    .colab-df-container {\n",
              "      display:flex;\n",
              "      gap: 12px;\n",
              "    }\n",
              "\n",
              "    .colab-df-convert {\n",
              "      background-color: #E8F0FE;\n",
              "      border: none;\n",
              "      border-radius: 50%;\n",
              "      cursor: pointer;\n",
              "      display: none;\n",
              "      fill: #1967D2;\n",
              "      height: 32px;\n",
              "      padding: 0 0 0 0;\n",
              "      width: 32px;\n",
              "    }\n",
              "\n",
              "    .colab-df-convert:hover {\n",
              "      background-color: #E2EBFA;\n",
              "      box-shadow: 0px 1px 2px rgba(60, 64, 67, 0.3), 0px 1px 3px 1px rgba(60, 64, 67, 0.15);\n",
              "      fill: #174EA6;\n",
              "    }\n",
              "\n",
              "    .colab-df-buttons div {\n",
              "      margin-bottom: 4px;\n",
              "    }\n",
              "\n",
              "    [theme=dark] .colab-df-convert {\n",
              "      background-color: #3B4455;\n",
              "      fill: #D2E3FC;\n",
              "    }\n",
              "\n",
              "    [theme=dark] .colab-df-convert:hover {\n",
              "      background-color: #434B5C;\n",
              "      box-shadow: 0px 1px 3px 1px rgba(0, 0, 0, 0.15);\n",
              "      filter: drop-shadow(0px 1px 2px rgba(0, 0, 0, 0.3));\n",
              "      fill: #FFFFFF;\n",
              "    }\n",
              "  </style>\n",
              "\n",
              "    <script>\n",
              "      const buttonEl =\n",
              "        document.querySelector('#df-e54778a6-6935-4d96-aee6-a476f3a7995f button.colab-df-convert');\n",
              "      buttonEl.style.display =\n",
              "        google.colab.kernel.accessAllowed ? 'block' : 'none';\n",
              "\n",
              "      async function convertToInteractive(key) {\n",
              "        const element = document.querySelector('#df-e54778a6-6935-4d96-aee6-a476f3a7995f');\n",
              "        const dataTable =\n",
              "          await google.colab.kernel.invokeFunction('convertToInteractive',\n",
              "                                                    [key], {});\n",
              "        if (!dataTable) return;\n",
              "\n",
              "        const docLinkHtml = 'Like what you see? Visit the ' +\n",
              "          '<a target=\"_blank\" href=https://colab.research.google.com/notebooks/data_table.ipynb>data table notebook</a>'\n",
              "          + ' to learn more about interactive tables.';\n",
              "        element.innerHTML = '';\n",
              "        dataTable['output_type'] = 'display_data';\n",
              "        await google.colab.output.renderOutput(dataTable, element);\n",
              "        const docLink = document.createElement('div');\n",
              "        docLink.innerHTML = docLinkHtml;\n",
              "        element.appendChild(docLink);\n",
              "      }\n",
              "    </script>\n",
              "  </div>\n",
              "\n",
              "\n",
              "<div id=\"df-c9bd245c-be26-4d8b-a271-d2e20a2bd18c\">\n",
              "  <button class=\"colab-df-quickchart\" onclick=\"quickchart('df-c9bd245c-be26-4d8b-a271-d2e20a2bd18c')\"\n",
              "            title=\"Suggest charts.\"\n",
              "            style=\"display:none;\">\n",
              "\n",
              "<svg xmlns=\"http://www.w3.org/2000/svg\" height=\"24px\"viewBox=\"0 0 24 24\"\n",
              "     width=\"24px\">\n",
              "    <g>\n",
              "        <path d=\"M19 3H5c-1.1 0-2 .9-2 2v14c0 1.1.9 2 2 2h14c1.1 0 2-.9 2-2V5c0-1.1-.9-2-2-2zM9 17H7v-7h2v7zm4 0h-2V7h2v10zm4 0h-2v-4h2v4z\"/>\n",
              "    </g>\n",
              "</svg>\n",
              "  </button>\n",
              "\n",
              "<style>\n",
              "  .colab-df-quickchart {\n",
              "      --bg-color: #E8F0FE;\n",
              "      --fill-color: #1967D2;\n",
              "      --hover-bg-color: #E2EBFA;\n",
              "      --hover-fill-color: #174EA6;\n",
              "      --disabled-fill-color: #AAA;\n",
              "      --disabled-bg-color: #DDD;\n",
              "  }\n",
              "\n",
              "  [theme=dark] .colab-df-quickchart {\n",
              "      --bg-color: #3B4455;\n",
              "      --fill-color: #D2E3FC;\n",
              "      --hover-bg-color: #434B5C;\n",
              "      --hover-fill-color: #FFFFFF;\n",
              "      --disabled-bg-color: #3B4455;\n",
              "      --disabled-fill-color: #666;\n",
              "  }\n",
              "\n",
              "  .colab-df-quickchart {\n",
              "    background-color: var(--bg-color);\n",
              "    border: none;\n",
              "    border-radius: 50%;\n",
              "    cursor: pointer;\n",
              "    display: none;\n",
              "    fill: var(--fill-color);\n",
              "    height: 32px;\n",
              "    padding: 0;\n",
              "    width: 32px;\n",
              "  }\n",
              "\n",
              "  .colab-df-quickchart:hover {\n",
              "    background-color: var(--hover-bg-color);\n",
              "    box-shadow: 0 1px 2px rgba(60, 64, 67, 0.3), 0 1px 3px 1px rgba(60, 64, 67, 0.15);\n",
              "    fill: var(--button-hover-fill-color);\n",
              "  }\n",
              "\n",
              "  .colab-df-quickchart-complete:disabled,\n",
              "  .colab-df-quickchart-complete:disabled:hover {\n",
              "    background-color: var(--disabled-bg-color);\n",
              "    fill: var(--disabled-fill-color);\n",
              "    box-shadow: none;\n",
              "  }\n",
              "\n",
              "  .colab-df-spinner {\n",
              "    border: 2px solid var(--fill-color);\n",
              "    border-color: transparent;\n",
              "    border-bottom-color: var(--fill-color);\n",
              "    animation:\n",
              "      spin 1s steps(1) infinite;\n",
              "  }\n",
              "\n",
              "  @keyframes spin {\n",
              "    0% {\n",
              "      border-color: transparent;\n",
              "      border-bottom-color: var(--fill-color);\n",
              "      border-left-color: var(--fill-color);\n",
              "    }\n",
              "    20% {\n",
              "      border-color: transparent;\n",
              "      border-left-color: var(--fill-color);\n",
              "      border-top-color: var(--fill-color);\n",
              "    }\n",
              "    30% {\n",
              "      border-color: transparent;\n",
              "      border-left-color: var(--fill-color);\n",
              "      border-top-color: var(--fill-color);\n",
              "      border-right-color: var(--fill-color);\n",
              "    }\n",
              "    40% {\n",
              "      border-color: transparent;\n",
              "      border-right-color: var(--fill-color);\n",
              "      border-top-color: var(--fill-color);\n",
              "    }\n",
              "    60% {\n",
              "      border-color: transparent;\n",
              "      border-right-color: var(--fill-color);\n",
              "    }\n",
              "    80% {\n",
              "      border-color: transparent;\n",
              "      border-right-color: var(--fill-color);\n",
              "      border-bottom-color: var(--fill-color);\n",
              "    }\n",
              "    90% {\n",
              "      border-color: transparent;\n",
              "      border-bottom-color: var(--fill-color);\n",
              "    }\n",
              "  }\n",
              "</style>\n",
              "\n",
              "  <script>\n",
              "    async function quickchart(key) {\n",
              "      const quickchartButtonEl =\n",
              "        document.querySelector('#' + key + ' button');\n",
              "      quickchartButtonEl.disabled = true;  // To prevent multiple clicks.\n",
              "      quickchartButtonEl.classList.add('colab-df-spinner');\n",
              "      try {\n",
              "        const charts = await google.colab.kernel.invokeFunction(\n",
              "            'suggestCharts', [key], {});\n",
              "      } catch (error) {\n",
              "        console.error('Error during call to suggestCharts:', error);\n",
              "      }\n",
              "      quickchartButtonEl.classList.remove('colab-df-spinner');\n",
              "      quickchartButtonEl.classList.add('colab-df-quickchart-complete');\n",
              "    }\n",
              "    (() => {\n",
              "      let quickchartButtonEl =\n",
              "        document.querySelector('#df-c9bd245c-be26-4d8b-a271-d2e20a2bd18c button');\n",
              "      quickchartButtonEl.style.display =\n",
              "        google.colab.kernel.accessAllowed ? 'block' : 'none';\n",
              "    })();\n",
              "  </script>\n",
              "</div>\n",
              "    </div>\n",
              "  </div>\n"
            ]
          },
          "metadata": {},
          "execution_count": 12
        }
      ]
    },
    {
      "cell_type": "markdown",
      "source": [
        "<code>y reconstruir una nueva base de datos tomando la temperatura promedio entre la max y min de cada dia, para dicha ciudad.</code>\n",
        "<br>\n",
        "b. ¿Cómo se reconstruye algo que todavia no se construyo? Construyendolo primero, y mintiendo con que lo volvimos a construir. Por eso: tenemos que construir una ~~base de datos~~ (para nuestra suerte, no) o mejor dicho, tenemos que crear una <b>columna con las temperaturas promedio de cada día para esa ciudad</b>. Los datos son de Temperatura Maxima (TMAX) y Temperatura Minima (TMIN). Para crear esa nueva columna 'TPROMEDIO', hacemos:\n",
        "  \n",
        "  $$ \\text{TPROMEDIO} = \\frac{TMAX + TMIN}{2}$$"
      ],
      "metadata": {
        "id": "kfk2k7Z-HOUS"
      }
    },
    {
      "cell_type": "code",
      "source": [
        "# Esto cambia todo el DataFrame, no solo para la ciudad de ushuaia.\n",
        "df['TPROMEDIO'] = (df['TMAX'] + df['TMIN']) / 2"
      ],
      "metadata": {
        "id": "WUjWirpmGxCF"
      },
      "execution_count": null,
      "outputs": []
    },
    {
      "cell_type": "markdown",
      "source": [
        "<code>Graficar dichos datos TIEMPO VS TEMPERATURA</code><br>\n",
        "c. Los datos dados tienen fecha, pero no esta en un formato más o menos graficable. Hay que pasarlos del tipo enteros (int64) a datetime64 (algo que no vimos, pero es muy importante y util para el análisis de datos.). Los errores los force (se vuelven NaT), porque lo importante es graficar las fechas de Ushuaia, no importa si hay otros errores en registros de otras ciudades."
      ],
      "metadata": {
        "id": "-diOBWSgMBxU"
      }
    },
    {
      "cell_type": "code",
      "source": [
        "df['FECHA'] = pd.to_datetime(df['FECHA'], format='%d%m%Y', errors= 'coerce')\n",
        "\n",
        "# por lo que vuelvo a declarar la tabla con los datos de ushuaia, para incluir su temperatura promedio por día y la fecha formateada\n",
        "temperatura_ushuaia = df[df['NOMBRE'] == \"USHUAIA AERO\"].copy()"
      ],
      "metadata": {
        "id": "IQ7rO9KOK0M0"
      },
      "execution_count": null,
      "outputs": []
    },
    {
      "cell_type": "markdown",
      "source": [
        "<code>Graficar dichos datos TIEMPO VS TEMPERATURA Y SELECCIONAR UN PERIODO DE TIEMPO DONDE LA GRAFICA SEA CRECIENTE. </code>\n",
        "~¿Cómo que seleccionar?~ Para el primer paso y debido a la densidad de los datos, costaria hacer un gráfico de lineas entendible, por lo que podemos por ejemplo hacer un grafico de dispersión. En este caso use un hexagono purpura para los datos."
      ],
      "metadata": {
        "id": "7AsMeJeAPANW"
      }
    },
    {
      "cell_type": "code",
      "source": [
        "plt.figure(figsize=(14, 8))\n",
        "plt.scatter(temperatura_ushuaia['FECHA'], temperatura_ushuaia['TPROMEDIO'], marker='h', color='purple', linestyle='-', alpha = 0.6)\n",
        "plt.xlabel('Fecha (meses)')\n",
        "plt.ylabel('Temperatura promedio por día')\n",
        "plt.title('Temperatura promedio por día en Ushuaia versus fecha')\n",
        "plt.grid(True)\n",
        "plt.show()"
      ],
      "metadata": {
        "id": "xJWTPiY1Ptn-",
        "colab": {
          "base_uri": "https://localhost:8080/",
          "height": 719
        },
        "outputId": "15bad81d-0a9d-4091-cc40-0c7c5e469c7e"
      },
      "execution_count": null,
      "outputs": [
        {
          "output_type": "display_data",
          "data": {
            "text/plain": [
              "<Figure size 1400x800 with 1 Axes>"
            ],
            "image/png": "[encoded data removed]"
          },
          "metadata": {}
        }
      ]
    },
    {
      "cell_type": "markdown",
      "source": [
        "<p>&nbsp;Podemos ver que en los datos de ushuaia se muestra un crecimiento en la temperatura entre el mes de Julio hacia Noviembre del año 2023 (2023-07 a 2023-10). Esto es el periodo de invierno hacia verano, lo que representa a la estación de <b>primavera</b>. Este es un periodo de crecimiento en los datos que se puede seleccionar para trabajar en el paso dos. Se puede hacer el mismo procedimiento más o menos de forma similar dependiendo de la ciudad que se haya elegido.</p>"
      ],
      "metadata": {
        "id": "q5HEy7lOYv9L"
      }
    },
    {
      "cell_type": "markdown",
      "source": [
        "<code>Esto servira para construir una nueva base de datos.</code>\n",
        "\n",
        "<p>Buenisimo</p>\n",
        "<br>\n",
        "<hr>"
      ],
      "metadata": {
        "id": "WcMJUCNPPBs7"
      }
    },
    {
      "cell_type": "markdown",
      "source": [
        "<br>\n",
        "\n",
        "### Segunda consigna\n",
        "\n",
        "<p>Ya tenemos \"seleccionada\" la fecha con datos de temperatura creciente en una ciudad elegida, en este caso Ushuaia. También tenemos lo que en el trabajo se llama \"nueva base de datos\" en la variable \"temperatura_ushuaia\" (un DataFrame de pandas). Podemos ir viendo la segunda consigna parte por parte de la misma forma.</p>"
      ],
      "metadata": {
        "id": "O_mEfiIWaj9b"
      }
    },
    {
      "cell_type": "markdown",
      "source": [
        "<details><summary><b>2. Agregar a la nueva base de datos creada del insciso anterior una columna con las siguientes variables , generadas a través de simulación aleatoria:<b></summary>\n",
        "<li> VARIABLE: PRECIO DEL KILO DE HELADO- construir esta variable usando simulación aleatoria de regresión lineal en función de la temperatura. De manera que a mayor temperatura el precio sea MAYOR, a menor temperatura el precio será menor. Definir el rango del precio del helado y la tasa o porcentaje de incremento del precio</li>\n",
        "\n",
        "<li>COMPRA HELADO: VARIABLE CATEGORICA , RESPUESTA SI/NO. Generar esta variable con simulación aleatoria de manera que si el precio del helado es mas del 40 % del precio inicial, la persona decide NO COMPRAR EL HELADO, ESTO SUCEDE CON UNA PROPORCION O PROBABILIDAD DEL 80% DE LA CANTIDAD TOTAL DE REGISTROS.\n",
        "</li></details>"
      ],
      "metadata": {
        "id": "AQqDx3Bs-44H"
      }
    },
    {
      "cell_type": "markdown",
      "source": [
        "<code>Agregar a la nueva base de datos creada del insciso anterior una columna con las siguientes variables , generadas a través de simulación aleatoria</code>\n",
        "\n",
        "&nbsp;Esto significa tomar nuestra ~base de datos~ tabla de datos con las temperaturas en Ushuaia (en el ejemplo) o de la ciudad escogida y agregarle las columnas: \"PRECIO DEL KILO DE HELADO\" y \"COMPRA HELADO\". Estas variables/columnas se rellenarian con datos ficticios (\"<i>simulación generada</i>\") o simulados.\n",
        "<p> Así que veamos parte por parte. </p>\n"
      ],
      "metadata": {
        "id": "hobnmOhaoLm-"
      }
    },
    {
      "cell_type": "code",
      "source": [
        "# Tenemos nuestra tabla de datos\n",
        "temperatura_ushuaia.head()"
      ],
      "metadata": {
        "id": "BTS8wv2qoLID",
        "colab": {
          "base_uri": "https://localhost:8080/",
          "height": 206
        },
        "outputId": "459aab0a-5fdc-4e89-fbaa-3666a8830afa"
      },
      "execution_count": null,
      "outputs": [
        {
          "output_type": "execute_result",
          "data": {
            "text/plain": [
              "         FECHA  TMAX  TMIN        NOMBRE  TPROMEDIO\n",
              "110 2023-10-29   5.9   0.2  USHUAIA AERO       3.05\n",
              "229 2023-10-28   7.6   0.8  USHUAIA AERO       4.20\n",
              "348 2023-10-27   8.0   0.3  USHUAIA AERO       4.15\n",
              "467 2023-10-26   5.4   1.3  USHUAIA AERO       3.35\n",
              "586 2023-10-25  10.4   3.2  USHUAIA AERO       6.80"
            ],
            "text/html": [
              "\n",
              "  <div id=\"df-0b9704aa-ff4d-4349-9555-f4ea6a5feefd\" class=\"colab-df-container\">\n",
              "    <div>\n",
              "<style scoped>\n",
              "    .dataframe tbody tr th:only-of-type {\n",
              "        vertical-align: middle;\n",
              "    }\n",
              "\n",
              "    .dataframe tbody tr th {\n",
              "        vertical-align: top;\n",
              "    }\n",
              "\n",
              "    .dataframe thead th {\n",
              "        text-align: right;\n",
              "    }\n",
              "</style>\n",
              "<table border=\"1\" class=\"dataframe\">\n",
              "  <thead>\n",
              "    <tr style=\"text-align: right;\">\n",
              "      <th></th>\n",
              "      <th>FECHA</th>\n",
              "      <th>TMAX</th>\n",
              "      <th>TMIN</th>\n",
              "      <th>NOMBRE</th>\n",
              "      <th>TPROMEDIO</th>\n",
              "    </tr>\n",
              "  </thead>\n",
              "  <tbody>\n",
              "    <tr>\n",
              "      <th>110</th>\n",
              "      <td>2023-10-29</td>\n",
              "      <td>5.9</td>\n",
              "      <td>0.2</td>\n",
              "      <td>USHUAIA AERO</td>\n",
              "      <td>3.05</td>\n",
              "    </tr>\n",
              "    <tr>\n",
              "      <th>229</th>\n",
              "      <td>2023-10-28</td>\n",
              "      <td>7.6</td>\n",
              "      <td>0.8</td>\n",
              "      <td>USHUAIA AERO</td>\n",
              "      <td>4.20</td>\n",
              "    </tr>\n",
              "    <tr>\n",
              "      <th>348</th>\n",
              "      <td>2023-10-27</td>\n",
              "      <td>8.0</td>\n",
              "      <td>0.3</td>\n",
              "      <td>USHUAIA AERO</td>\n",
              "      <td>4.15</td>\n",
              "    </tr>\n",
              "    <tr>\n",
              "      <th>467</th>\n",
              "      <td>2023-10-26</td>\n",
              "      <td>5.4</td>\n",
              "      <td>1.3</td>\n",
              "      <td>USHUAIA AERO</td>\n",
              "      <td>3.35</td>\n",
              "    </tr>\n",
              "    <tr>\n",
              "      <th>586</th>\n",
              "      <td>2023-10-25</td>\n",
              "      <td>10.4</td>\n",
              "      <td>3.2</td>\n",
              "      <td>USHUAIA AERO</td>\n",
              "      <td>6.80</td>\n",
              "    </tr>\n",
              "  </tbody>\n",
              "</table>\n",
              "</div>\n",
              "    <div class=\"colab-df-buttons\">\n",
              "\n",
              "  <div class=\"colab-df-container\">\n",
              "    <button class=\"colab-df-convert\" onclick=\"convertToInteractive('df-0b9704aa-ff4d-4349-9555-f4ea6a5feefd')\"\n",
              "            title=\"Convert this dataframe to an interactive table.\"\n",
              "            style=\"display:none;\">\n",
              "\n",
              "  <svg xmlns=\"http://www.w3.org/2000/svg\" height=\"24px\" viewBox=\"0 -960 960 960\">\n",
              "    <path d=\"M120-120v-720h720v720H120Zm60-500h600v-160H180v160Zm220 220h160v-160H400v160Zm0 220h160v-160H400v160ZM180-400h160v-160H180v160Zm440 0h160v-160H620v160ZM180-180h160v-160H180v160Zm440 0h160v-160H620v160Z\"/>\n",
              "  </svg>\n",
              "    </button>\n",
              "\n",
              "  <style>\n",
              "    .colab-df-container {\n",
              "      display:flex;\n",
              "      gap: 12px;\n",
              "    }\n",
              "\n",
              "    .colab-df-convert {\n",
              "      background-color: #E8F0FE;\n",
              "      border: none;\n",
              "      border-radius: 50%;\n",
              "      cursor: pointer;\n",
              "      display: none;\n",
              "      fill: #1967D2;\n",
              "      height: 32px;\n",
              "      padding: 0 0 0 0;\n",
              "      width: 32px;\n",
              "    }\n",
              "\n",
              "    .colab-df-convert:hover {\n",
              "      background-color: #E2EBFA;\n",
              "      box-shadow: 0px 1px 2px rgba(60, 64, 67, 0.3), 0px 1px 3px 1px rgba(60, 64, 67, 0.15);\n",
              "      fill: #174EA6;\n",
              "    }\n",
              "\n",
              "    .colab-df-buttons div {\n",
              "      margin-bottom: 4px;\n",
              "    }\n",
              "\n",
              "    [theme=dark] .colab-df-convert {\n",
              "      background-color: #3B4455;\n",
              "      fill: #D2E3FC;\n",
              "    }\n",
              "\n",
              "    [theme=dark] .colab-df-convert:hover {\n",
              "      background-color: #434B5C;\n",
              "      box-shadow: 0px 1px 3px 1px rgba(0, 0, 0, 0.15);\n",
              "      filter: drop-shadow(0px 1px 2px rgba(0, 0, 0, 0.3));\n",
              "      fill: #FFFFFF;\n",
              "    }\n",
              "  </style>\n",
              "\n",
              "    <script>\n",
              "      const buttonEl =\n",
              "        document.querySelector('#df-0b9704aa-ff4d-4349-9555-f4ea6a5feefd button.colab-df-convert');\n",
              "      buttonEl.style.display =\n",
              "        google.colab.kernel.accessAllowed ? 'block' : 'none';\n",
              "\n",
              "      async function convertToInteractive(key) {\n",
              "        const element = document.querySelector('#df-0b9704aa-ff4d-4349-9555-f4ea6a5feefd');\n",
              "        const dataTable =\n",
              "          await google.colab.kernel.invokeFunction('convertToInteractive',\n",
              "                                                    [key], {});\n",
              "        if (!dataTable) return;\n",
              "\n",
              "        const docLinkHtml = 'Like what you see? Visit the ' +\n",
              "          '<a target=\"_blank\" href=https://colab.research.google.com/notebooks/data_table.ipynb>data table notebook</a>'\n",
              "          + ' to learn more about interactive tables.';\n",
              "        element.innerHTML = '';\n",
              "        dataTable['output_type'] = 'display_data';\n",
              "        await google.colab.output.renderOutput(dataTable, element);\n",
              "        const docLink = document.createElement('div');\n",
              "        docLink.innerHTML = docLinkHtml;\n",
              "        element.appendChild(docLink);\n",
              "      }\n",
              "    </script>\n",
              "  </div>\n",
              "\n",
              "\n",
              "<div id=\"df-2c3a7561-72e2-43b1-a635-b7d001fee626\">\n",
              "  <button class=\"colab-df-quickchart\" onclick=\"quickchart('df-2c3a7561-72e2-43b1-a635-b7d001fee626')\"\n",
              "            title=\"Suggest charts.\"\n",
              "            style=\"display:none;\">\n",
              "\n",
              "<svg xmlns=\"http://www.w3.org/2000/svg\" height=\"24px\"viewBox=\"0 0 24 24\"\n",
              "     width=\"24px\">\n",
              "    <g>\n",
              "        <path d=\"M19 3H5c-1.1 0-2 .9-2 2v14c0 1.1.9 2 2 2h14c1.1 0 2-.9 2-2V5c0-1.1-.9-2-2-2zM9 17H7v-7h2v7zm4 0h-2V7h2v10zm4 0h-2v-4h2v4z\"/>\n",
              "    </g>\n",
              "</svg>\n",
              "  </button>\n",
              "\n",
              "<style>\n",
              "  .colab-df-quickchart {\n",
              "      --bg-color: #E8F0FE;\n",
              "      --fill-color: #1967D2;\n",
              "      --hover-bg-color: #E2EBFA;\n",
              "      --hover-fill-color: #174EA6;\n",
              "      --disabled-fill-color: #AAA;\n",
              "      --disabled-bg-color: #DDD;\n",
              "  }\n",
              "\n",
              "  [theme=dark] .colab-df-quickchart {\n",
              "      --bg-color: #3B4455;\n",
              "      --fill-color: #D2E3FC;\n",
              "      --hover-bg-color: #434B5C;\n",
              "      --hover-fill-color: #FFFFFF;\n",
              "      --disabled-bg-color: #3B4455;\n",
              "      --disabled-fill-color: #666;\n",
              "  }\n",
              "\n",
              "  .colab-df-quickchart {\n",
              "    background-color: var(--bg-color);\n",
              "    border: none;\n",
              "    border-radius: 50%;\n",
              "    cursor: pointer;\n",
              "    display: none;\n",
              "    fill: var(--fill-color);\n",
              "    height: 32px;\n",
              "    padding: 0;\n",
              "    width: 32px;\n",
              "  }\n",
              "\n",
              "  .colab-df-quickchart:hover {\n",
              "    background-color: var(--hover-bg-color);\n",
              "    box-shadow: 0 1px 2px rgba(60, 64, 67, 0.3), 0 1px 3px 1px rgba(60, 64, 67, 0.15);\n",
              "    fill: var(--button-hover-fill-color);\n",
              "  }\n",
              "\n",
              "  .colab-df-quickchart-complete:disabled,\n",
              "  .colab-df-quickchart-complete:disabled:hover {\n",
              "    background-color: var(--disabled-bg-color);\n",
              "    fill: var(--disabled-fill-color);\n",
              "    box-shadow: none;\n",
              "  }\n",
              "\n",
              "  .colab-df-spinner {\n",
              "    border: 2px solid var(--fill-color);\n",
              "    border-color: transparent;\n",
              "    border-bottom-color: var(--fill-color);\n",
              "    animation:\n",
              "      spin 1s steps(1) infinite;\n",
              "  }\n",
              "\n",
              "  @keyframes spin {\n",
              "    0% {\n",
              "      border-color: transparent;\n",
              "      border-bottom-color: var(--fill-color);\n",
              "      border-left-color: var(--fill-color);\n",
              "    }\n",
              "    20% {\n",
              "      border-color: transparent;\n",
              "      border-left-color: var(--fill-color);\n",
              "      border-top-color: var(--fill-color);\n",
              "    }\n",
              "    30% {\n",
              "      border-color: transparent;\n",
              "      border-left-color: var(--fill-color);\n",
              "      border-top-color: var(--fill-color);\n",
              "      border-right-color: var(--fill-color);\n",
              "    }\n",
              "    40% {\n",
              "      border-color: transparent;\n",
              "      border-right-color: var(--fill-color);\n",
              "      border-top-color: var(--fill-color);\n",
              "    }\n",
              "    60% {\n",
              "      border-color: transparent;\n",
              "      border-right-color: var(--fill-color);\n",
              "    }\n",
              "    80% {\n",
              "      border-color: transparent;\n",
              "      border-right-color: var(--fill-color);\n",
              "      border-bottom-color: var(--fill-color);\n",
              "    }\n",
              "    90% {\n",
              "      border-color: transparent;\n",
              "      border-bottom-color: var(--fill-color);\n",
              "    }\n",
              "  }\n",
              "</style>\n",
              "\n",
              "  <script>\n",
              "    async function quickchart(key) {\n",
              "      const quickchartButtonEl =\n",
              "        document.querySelector('#' + key + ' button');\n",
              "      quickchartButtonEl.disabled = true;  // To prevent multiple clicks.\n",
              "      quickchartButtonEl.classList.add('colab-df-spinner');\n",
              "      try {\n",
              "        const charts = await google.colab.kernel.invokeFunction(\n",
              "            'suggestCharts', [key], {});\n",
              "      } catch (error) {\n",
              "        console.error('Error during call to suggestCharts:', error);\n",
              "      }\n",
              "      quickchartButtonEl.classList.remove('colab-df-spinner');\n",
              "      quickchartButtonEl.classList.add('colab-df-quickchart-complete');\n",
              "    }\n",
              "    (() => {\n",
              "      let quickchartButtonEl =\n",
              "        document.querySelector('#df-2c3a7561-72e2-43b1-a635-b7d001fee626 button');\n",
              "      quickchartButtonEl.style.display =\n",
              "        google.colab.kernel.accessAllowed ? 'block' : 'none';\n",
              "    })();\n",
              "  </script>\n",
              "</div>\n",
              "    </div>\n",
              "  </div>\n"
            ]
          },
          "metadata": {},
          "execution_count": 16
        }
      ]
    },
    {
      "cell_type": "markdown",
      "source": [
        "<code> PRECIO DEL KILO DE HELADO- construir esta variable usando simulación aleatoria de regresión lineal en función de la temperatura. De manera que a mayor temperatura el precio sea MAYOR, a menor temperatura el precio será menor. Definir el rango del precio del helado y la tasa o porcentaje de incremento del precio</code>\n",
        "\n",
        "Separemos la consigna por partes:\n",
        "- Crear la variable/columna \"PRECIO DEL KILO DE HELADO\".\n",
        "- Rellenar usando una \"simulación aleatoria de regresión lineal\" (esto es contradictorio).\n",
        " <p>&nbsp;Después de haberlo consultarlo con el profesor Miguel, esto se refiere a datos simulados que siguen una <u>relación</u> lineal positiva con la temperatura del día.</p>\n",
        "- En resumen: hay que crear datos para rellenar una columna inventada (\"<i>precios de helado por kg</i>\"). La condición es que estos datos pueden tener aleatoriedad, pero tienen que seguir una tendencia con la temperatura: a más temperatura promedio en el dia, más aumenta el precio del helado. Cuando hace frio, el precio del helado va a ser más bajo.\n",
        "\n",
        "\n",
        "<p>&nbsp;Podemos decir entonces que tenemos que crear datos que muestren una tendencia positiva en relación a la temperatura. Estos datos tienen que tener valores más o menos aleatorios (una variabilidad) pero tienen que seguir una tendencia lineal: a más temperatura, más precio, y a menos temperatura, menos precio. </p>\n",
        "\n",
        "<br>\n",
        "\n",
        "<p> Podemos hacer datos ficticios que sigan el comportamiento de una recta f(x) = a + bx + e. Esta ecuación seria dada por:</p><br>\n",
        "  \n",
        "  $$ \\text{Precio del kilo de helado} = Pendiente * Temperatura_i + Intercepto + \\text{Error aleatorio}$$\n",
        "\n",
        "<br>\n",
        "<p>&nbsp;Donde la pendiente y el intercepto son los coeficientes de la recta lineal, que definirian la relación lineal entre la temperatura y el precio del helado.\n",
        " El \"Error aleatorio\" es un término que introduciria aleatoriedad o variabilidad a los datos. Estos valores aleatorios los podemos crear usando la función np.random.randint de Numpy.</p>"
      ],
      "metadata": {
        "id": "2NdSBWzHSRvN"
      }
    },
    {
      "cell_type": "markdown",
      "source": [
        "a. <b>Inventando los datos para precios de kilos de helado</b>\n",
        "\n",
        "<p>&nbsp;Bueno, primero que nada tenemos que elegir un número que queramos para el precio <b>base</b> por kilo de helado. Al día de hoy, el kilo de helado está más o menos $3.200 (en Nicolo Helados, pero ahí venden barato: recomiendo), entonces voy a colocar un precio de 4000 pesos base. Puede ser cualquier precio.</p>\n",
        "<p>&nbsp;Recordemos que el <b>Intercepto</b> es el que representa el valor base del precio del helado, y la <b>pendiente</b> es el coeficiente que determina la tasa de cambio. La <b>temperatura</b> es la variable que ya tenemos en nuestro DataFrame: es la temperatura promedio de cada día, que creamos antes.</p>\n",
        "\n",
        "<p> Lo que nos falta es el error aleatorio para agregarle variabilidad a los datos y que parezcan más o menos realistas. En este caso voy a elegir un error de entre 750 pesos más o menos.</p>\n",
        "\n",
        "- En el ejemplo use un precio base (intercepto) de 4000\n",
        "\n",
        "- Use una pendiente de 120, esto representa un cambio del 3% del precio por cada grado de temperatura\n",
        "\n",
        "- Use errores aleatorios de entre -750 a 750 para darle más o menos variabilidad a los datos y que parezcan más reales"
      ],
      "metadata": {
        "id": "S9HrhbPuIj0B"
      }
    },
    {
      "cell_type": "code",
      "source": [
        "# (Usado posteriormente para el número de números aleatorios a generar):\n",
        "n_datos_de_ushuaia = len(temperatura_ushuaia)\n",
        "\n",
        "\n",
        "# Pendiente: por cada aumento de un grado, aumenta un 3% el precio base del kilo de helado ($120)\n",
        "# Intercepto: $4000 como precio base para los helados\n",
        "pendiente = 4000*0.03\n",
        "intercepto_base = 4000\n",
        "\n",
        "# Para que se mantenga la reproductibilidad de los datos aleatorios\n",
        "np.random.seed(31)\n",
        "\n",
        "# Genero errores aleatorios para agregar variabilidad a los datos ficticios:\n",
        "errores_aleatorios = np.random.randint(-750, 750, n_datos_de_ushuaia)\n",
        "\n",
        "# Temperaturas promedio de la ciudad de ushuaia:\n",
        "temperatura = temperatura_ushuaia['TPROMEDIO']\n",
        "\n",
        "\n",
        "# Calculamos los precios usando nuestra función lineal:\n",
        "precio_del_kilo_helado = pendiente  * temperatura + 4000 + errores_aleatorios\n",
        "\n",
        "# Le mandamos los precios a la columna \"Precio helado por kg\" etc:\n",
        "temperatura_ushuaia['PRECIO HELADO POR KG'] = precio_del_kilo_helado\n",
        "\n",
        "# Y ahora visualizamos los datinhos:\n",
        "plt.scatter(temperatura_ushuaia['TPROMEDIO'], temperatura_ushuaia['PRECIO HELADO POR KG'])\n",
        "plt.xlabel(\"Temperatura promedio\")\n",
        "plt.ylabel(\"Precio de helado en pesos (por kg)\")\n",
        "plt.title(\"Relación entre precio y temperatura del helado\")\n",
        "plt.grid(1)\n",
        "plt.show()\n",
        "\n",
        "\n",
        "# Imprimo los precios minimos y maximos para determinar el rango de precios:\n",
        "print(f\"\\nPrecio minimo del helado: {temperatura_ushuaia['PRECIO HELADO POR KG'].min()}\")\n",
        "print(f\"Precio maximo del helado: {temperatura_ushuaia['PRECIO HELADO POR KG'].max()}\")"
      ],
      "metadata": {
        "id": "NlOzQb2JoGRz",
        "colab": {
          "base_uri": "https://localhost:8080/",
          "height": 527
        },
        "outputId": "0ae9a4bd-f3c2-40ff-fdf9-a36e2dae3c01"
      },
      "execution_count": null,
      "outputs": [
        {
          "output_type": "display_data",
          "data": {
            "text/plain": [
              "<Figure size 640x480 with 1 Axes>"
            ],
            "image/png": "[encoded data removed]"
          },
          "metadata": {}
        },
        {
          "output_type": "stream",
          "name": "stdout",
          "text": [
            "\n",
            "Precio minimo del helado: 3378.0\n",
            "Precio maximo del helado: 6583.0\n"
          ]
        }
      ]
    },
    {
      "cell_type": "markdown",
      "source": [
        " El rango de precios es de entre \\$3378 a \\$6583 y la pendiente es de $120 así que esa es la tasa de cambio por grado de temperatura. Ahora, vamos con la segunda parte.\n",
        "\n",
        "<code>COMPRA HELADO: VARIABLE CATEGORICA , RESPUESTA SI/NO. Generar esta variable con simulación aleatoria de manera que si el precio del helado es mas del 40 % del precio inicial, la persona decide NO COMPRAR EL HELADO, ESTO SUCEDE CON UNA PROPORCION O PROBABILIDAD DEL 80% DE LA CANTIDAD TOTAL DE REGISTROS.</code>\n",
        "\n",
        "\n",
        "- Crear una variable categorica binaria \"COMPRA HELADO\".\n",
        "\n",
        "<br>\n",
        "\n",
        "Leer este enunciado es lo peor que me paso en la vida y vivi muchas desgracias.\n",
        "\n",
        "Luego de consultarlo con el profesor Miguel, quién escribio el cuaderno, lo que quiso decir es:\n",
        "\n",
        "- Cúando el precio del helado esta por encima del 40% inicial, la probabilidad de <b>no</b> comprarlo es del 80%\n",
        "- Cúando el precio del helado esta entre el precio inicial y por debajo de un aumento del 40%, la probabilidad <b>sí</b> comprarlo es del 80%"
      ],
      "metadata": {
        "id": "O4uZfFVRRYGw"
      }
    },
    {
      "cell_type": "code",
      "source": [
        "## Antes de continuar con esta parte, voy a pedir aclaración de qué es lo que se quiso decir."
      ],
      "metadata": {
        "id": "m7Nyld-1c6LM"
      },
      "execution_count": null,
      "outputs": []
    },
    {
      "cell_type": "code",
      "source": [],
      "metadata": {
        "id": "-b6XTJeQj40h"
      },
      "execution_count": null,
      "outputs": []
    },
    {
      "cell_type": "code",
      "source": [],
      "metadata": {
        "id": "2FTbFa0Wj4nj"
      },
      "execution_count": null,
      "outputs": []
    },
    {
      "cell_type": "code",
      "source": [],
      "metadata": {
        "id": "Bwb8qpYyj4iF"
      },
      "execution_count": null,
      "outputs": []
    },
    {
      "cell_type": "code",
      "source": [],
      "metadata": {
        "id": "V9HcwmhFj4d3"
      },
      "execution_count": null,
      "outputs": []
    },
    {
      "cell_type": "code",
      "source": [],
      "metadata": {
        "id": "v9E0Hy5cj4Yu"
      },
      "execution_count": null,
      "outputs": []
    },
    {
      "cell_type": "markdown",
      "source": [
        "<p>3. GENERAR TRES PERCEPTRONES (SEGUIR LOS EJEMPLOS MOSTRADOS DE PERCEPTRON EN CLASE)CONECTADOS ENTRE SI DE MANERA QUE TENGA COMO CONDICIÓN LO SIGUIENTE:</p>\n",
        "\n",
        "<ul><li>SI HACEN MÁS DE 27 GRADOS DE TEMPERATURA O INCLUSIVE SI EL PRECIO DEL HELADO ESTA POR DEBAJO DEL 40 % DE INCREMENTO, LA RED NEURONAL DEBERA INDICAR QUE SE COMPRA EL HELADO. ( los pesos colocarlos de manera aleatoria, usar la función de salto finito o función sigmoide para la activación)</li>\n",
        "</ul>"
      ],
      "metadata": {
        "id": "d3IOmnkp-7Bb"
      }
    },
    {
      "cell_type": "code",
      "source": [],
      "metadata": {
        "id": "aedokMjZaTZc"
      },
      "execution_count": null,
      "outputs": []
    },
    {
      "cell_type": "code",
      "source": [],
      "metadata": {
        "id": "_lFxbkOAxLfC"
      },
      "execution_count": null,
      "outputs": []
    },
    {
      "cell_type": "code",
      "source": [],
      "metadata": {
        "id": "tp5niqtYaTP6"
      },
      "execution_count": null,
      "outputs": []
    },
    {
      "cell_type": "code",
      "source": [],
      "metadata": {
        "id": "dNp9swoVg9Qt"
      },
      "execution_count": null,
      "outputs": []
    },
    {
      "cell_type": "code",
      "source": [],
      "metadata": {
        "id": "NTWlWzECg9AP"
      },
      "execution_count": null,
      "outputs": []
    },
    {
      "cell_type": "markdown",
      "source": [
        "<p>4. Luego de diseñar los perceptrones, implementarlos sobre la base de datos generada de manera que se les pase por argumento las variables: TEMPERATURA PROMEDIO, PRECIO DEL HELADO. Comparar la proporción de respuestas correctas en las que coincide el resultado de la red neuronal , con la variable COMPRA HELADOS . Esto último es una forma de medir la exactitud de la red.</p>"
      ],
      "metadata": {
        "id": "eRnkPvH5-6vK"
      }
    },
    {
      "cell_type": "code",
      "source": [],
      "metadata": {
        "id": "5zOWH6bwg9y6"
      },
      "execution_count": null,
      "outputs": []
    },
    {
      "cell_type": "code",
      "source": [],
      "metadata": {
        "id": "J2-Y_JNhg9sX"
      },
      "execution_count": null,
      "outputs": []
    },
    {
      "cell_type": "code",
      "source": [],
      "metadata": {
        "id": "vMy9kyhqaUGw"
      },
      "execution_count": null,
      "outputs": []
    },
    {
      "cell_type": "code",
      "source": [],
      "metadata": {
        "id": "tj06FVwExMP7"
      },
      "execution_count": null,
      "outputs": []
    },
    {
      "cell_type": "code",
      "source": [],
      "metadata": {
        "id": "G0MLNeJuaT-0"
      },
      "execution_count": null,
      "outputs": []
    }
  ]
}